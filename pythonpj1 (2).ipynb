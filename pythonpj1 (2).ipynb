{
 "cells": [
  {
   "cell_type": "code",
   "execution_count": 5,
   "id": "6cebacc4-ebdb-4221-b165-7709cb4ef8f0",
   "metadata": {},
   "outputs": [],
   "source": [
    "import requests\n",
    "\n",
    "url_api = \"https://api.openweathermap.org/data/2.5/weather?q={}&appid={}\"\n",
    "api_file='appapi.txt'\n",
    "file_a = ConfigParser()\n",
    "file_a.read(api_file)\n",
    "api_key = file_a['api_key']['key']\n",
    "\n",
    "def weather_find(city): \n",
    "    final = requests.get(url_api.format(city,api_key))\n",
    "    if final:\n",
    "        json_file = final.json()\n",
    "        city = json_file['name']\n",
    "        country_name = json_file['sys']\n",
    "        k_temp = json_file['main']['temp']\n",
    "        c_temp = k_temp - 273.15\n",
    "        f_temp = (k_temp - 273.15)*9/5+32\n",
    "        weather_display = json_file['weather'][0]['main']\n",
    "        result = (city,country_name,c_temp,f_temp,weather_display)\n",
    "        return result\n",
    "    else:\n",
    "        return None\n",
    "\n",
    "def print_weather():\n",
    "    city = find_city.get()\n",
    "    weather = weather_find(city)\n",
    "    if weather:\n",
    "        location_entry['text'] = '{},{}'.format(weather[0],weather[1])\n",
    "        temperature_entry['text'] = '{:.2f}C,{:.2f} F'.format(weather[2],weather[3])\n",
    "        weather_entry['text'] = weather[4]\n",
    "    else:\n",
    "        messagebox.showerror('Error','please enter a valid city name')\n",
    "\n",
    "\n",
    "\n",
    "root=Tk()\n",
    "root.title(\"My own weather app\") \n",
    "root.config(background=\"lightgray\")\n",
    "root.geometry(\"800x500\")\n",
    "find_city = StringVar()\n",
    "enter_city = Entry(root,textvariable=find_city,fg=\"black\",font=(\"Arial\",30,\"bold\"))\n",
    "enter_city.pack()\n",
    "search_button = Button(root,text=\"SEARCHWEATHER !\",bg=\"red\",fg=\"white\",width=20,font=(\"Arial\",25,\"bold\"),command=print_weather)\n",
    "search_button.pack()\n",
    "location_entry = Label(root, text=\" \",font=(\"Arial\",35,\"bold\"),bg=\"lightgreen\",width=50)\n",
    "location_entry.pack()\n",
    "temperature_entry = Label(root, text='',font=(\"Arial\",35,\"bold\"),bg='lightpink',width=50)\n",
    "temperature_entry.pack()\n",
    "weather_entry = Label(root, text='',font=(\"Arial\",35,\"bold\"),bg=\"lightblue\",width=43)\n",
    "weather_entry.pack()\n",
    "\n",
    "root.mainloop()"
   ]
  },
  {
   "cell_type": "code",
   "execution_count": null,
   "id": "7675bc5f-31c0-462a-9f7d-1e566330da35",
   "metadata": {},
   "outputs": [],
   "source": []
  }
 ],
 "metadata": {
  "kernelspec": {
   "display_name": "Python 3 (ipykernel)",
   "language": "python",
   "name": "python3"
  },
  "language_info": {
   "codemirror_mode": {
    "name": "ipython",
    "version": 3
   },
   "file_extension": ".py",
   "mimetype": "text/x-python",
   "name": "python",
   "nbconvert_exporter": "python",
   "pygments_lexer": "ipython3",
   "version": "3.12.7"
  }
 },
 "nbformat": 4,
 "nbformat_minor": 5
}
